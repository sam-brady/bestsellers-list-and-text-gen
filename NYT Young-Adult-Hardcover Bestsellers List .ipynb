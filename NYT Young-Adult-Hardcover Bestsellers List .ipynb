{
 "cells": [
  {
   "cell_type": "markdown",
   "metadata": {},
   "source": [
    "# Young Adult Hardcover Fiction - NYT Bestsellers"
   ]
  },
  {
   "cell_type": "code",
   "execution_count": null,
   "metadata": {},
   "outputs": [],
   "source": [
    "# NYT Developers Call Limit\n",
    "\n",
    "# there are two rate limits per API: 4,000 requests per day and 10 requests per minute. \n",
    "\n",
    "# You should sleep 6 seconds between calls to avoid hitting the per minute rate limit."
   ]
  },
  {
   "cell_type": "code",
   "execution_count": null,
   "metadata": {},
   "outputs": [],
   "source": [
    "# Sign up for an API key here               https://developer.nytimes.com"
   ]
  },
  {
   "cell_type": "code",
   "execution_count": null,
   "metadata": {},
   "outputs": [],
   "source": [
    "\n",
    "import pandas as pd\n",
    "import numpy as np\n",
    "\n",
    "import requests\n",
    "\n",
    "from datetime import timedelta, date\n",
    "\n",
    "import time\n",
    "\n",
    "import matplotlib.pyplot as plt\n",
    "%matplotlib inline\n",
    "from pandas.plotting import register_matplotlib_converters\n",
    "\n",
    "import seaborn as sns\n",
    "\n",
    "import PIL.Image\n",
    "from pylab import *\n",
    "from wordcloud import WordCloud, STOPWORDS\n",
    "\n",
    "import markovify\n"
   ]
  },
  {
   "cell_type": "code",
   "execution_count": null,
   "metadata": {},
   "outputs": [],
   "source": [
    "# ENTER YOUR OWN NYT DEVELOPER API KEY HERE\n",
    "\n",
    "\n",
    "api_key = 'XXXXXXXXXXXXXXXXXXXXXXXXXXXXXX'            # <------------------ ENTER API KEY HERE"
   ]
  },
  {
   "cell_type": "code",
   "execution_count": null,
   "metadata": {},
   "outputs": [],
   "source": [
    "# pull lists from nyt api\n",
    "\n",
    "lists = requests.get('https://api.nytimes.com/svc/books/v3//lists/names.json?api-key=' + api_key)\n",
    "\n",
    "print(\"Please show me 200...\", lists.status_code)\n",
    "\n",
    "     \n",
    "# Wait for 70 seconds\n",
    "\n",
    "time.sleep(70)"
   ]
  },
  {
   "cell_type": "code",
   "execution_count": null,
   "metadata": {},
   "outputs": [],
   "source": [
    "# put into dataframe\n",
    "\n",
    "lists_data = lists.json()['results']\n",
    "lists_data = pd.DataFrame.from_dict(lists_data)\n",
    "lists_data"
   ]
  },
  {
   "cell_type": "code",
   "execution_count": null,
   "metadata": {},
   "outputs": [],
   "source": [
    "# get a list of dates... enter relevant dates into start_date and stop_date variable\n",
    "\n",
    "from datetime import timedelta, date\n",
    "\n",
    "\n",
    "dates = []\n",
    "\n",
    "start_date = date(2015, 8, 30)                    # <------------------ ENTER START DATE HERE\n",
    "end_date = date(2020, 2, 2)                       # <------------------ ENTER END DATE HERE\n",
    "\n",
    "delta = timedelta(days=7)\n",
    "\n",
    "while start_date <= end_date:\n",
    "    \n",
    "    dates.append(start_date.strftime(\"%Y-%m-%d\"))\n",
    "    start_date += delta\n"
   ]
  },
  {
   "cell_type": "code",
   "execution_count": null,
   "metadata": {},
   "outputs": [],
   "source": [
    "# group dates into chunks of 10 for the api call size    (maximum is 10 a minute, 4000 a day)\n",
    "\n",
    "\n",
    "def chunker(seq, size):\n",
    "    return (seq[pos:pos + size] for pos in range(0, len(seq), size))\n",
    "\n",
    "\n",
    "chunks = []\n",
    "\n",
    "for group in chunker(dates, 10):\n",
    "   \n",
    "    chunks.append(group)\n",
    " \n",
    "    "
   ]
  },
  {
   "cell_type": "code",
   "execution_count": null,
   "metadata": {},
   "outputs": [],
   "source": [
    "# type in the name of the best sellers list you wish to query and make sure to type it in correctly \n",
    "# you can find all options from the 'list_name_encoded' column in the 'list' dataframe above\n",
    "# however please choose only the lists that are updated WEEKLY as that is how I set up the code\n",
    "\n",
    "\n",
    "list_name = 'young-adult-hardcover'       # <------------------ ENTER LIST NAME HERE"
   ]
  },
  {
   "cell_type": "code",
   "execution_count": null,
   "metadata": {},
   "outputs": [],
   "source": [
    "# api call create and append dataframe\n",
    "\n",
    "\n",
    "api_url_start = 'https://api.nytimes.com/svc/books/v3/lists/'       # generate generic api url\n",
    "api_url_end = ('/' + list_name  + '.json?api-key=')                 # add in list name\n",
    "\n",
    "\n",
    "\n",
    "genre_df = pd.DataFrame()                                           # create empty dataframe\n",
    "\n",
    "\n",
    "for chunk in chunks:                                                # pull 10 dates at a time from total dates\n",
    "    \n",
    "    \n",
    "    for date in chunk:                                              # pull one date at a time from the 10\n",
    "    \n",
    "        url = (api_url_start +  date   + api_url_end)               # put togehter api url parts\n",
    "        response = requests.get(url + api_key)                      # pull from api with key\n",
    "    \n",
    "        genre = response.json()                                     # create variable for json file\n",
    "        genre = pd.DataFrame.from_dict(genre)                       # create dataframe from json file \n",
    "        \n",
    "        books_df = pd.DataFrame.from_dict(genre.iloc[1,4])          # select only book info from dataframe\n",
    "        \n",
    "        books_df['bestsellers-date'] = genre.iloc[9,4]              # create and join column for bestsellers dates\n",
    "        \n",
    "        genre_df = genre_df.append(books_df, ignore_index=True, sort=True)      # append books to dataframe\n",
    "\n",
    "            \n",
    "        \n",
    "        # select only relevant columns add bestsellers date (you may wish to add or delete some)  \n",
    "\n",
    "        genre_df = genre_df[['bestsellers-date', 'author', 'description', 'price', 'publisher', 'rank', 'rank_last_week', 'title', 'weeks_on_list' ]]\n",
    "    \n",
    "    \n",
    "    \n",
    "# Wait for 70 seconds to not max out the api call limit  ...and repeat for the next 10 dates\n",
    "\n",
    "    time.sleep(70)\n",
    "\n",
    "\n",
    "# show dataframe    \n",
    "\n",
    "genre_df\n"
   ]
  },
  {
   "cell_type": "code",
   "execution_count": null,
   "metadata": {},
   "outputs": [],
   "source": [
    "# save dateframe to csv file  (UNHASH THE LINE)\n",
    "\n",
    "#    genre_df.to_csv('young_adult_hardcover_fiction.csv')\n",
    "\n",
    "genre_df = pd.read_csv('young_adult_hardcover_fiction.csv')\n",
    "        "
   ]
  },
  {
   "cell_type": "code",
   "execution_count": null,
   "metadata": {},
   "outputs": [],
   "source": [
    "# rank and plot the most popular book titles by weeks on the list \n",
    "\n",
    "popular = genre_df['title'].value_counts()\n",
    "\n",
    "popular = pd.DataFrame(popular).reset_index()\n",
    "\n",
    "popular = popular.rename(columns={\"index\": \"title\", \"title\": \"count\"})\n",
    "\n",
    "popular = popular.loc[popular['count']>=52]\n",
    "\n",
    "popular"
   ]
  },
  {
   "cell_type": "code",
   "execution_count": null,
   "metadata": {},
   "outputs": [],
   "source": [
    "# Data to plot... (make sure explode has same number of elements as your popular list)\n",
    "\n",
    "labels = popular['title']\n",
    "sizes = popular['count']\n",
    "colors = ['gold', 'yellowgreen', 'lightcoral', 'lightskyblue', 'lightblue','lightsteelblue','silver',  'lightskyblue', 'lightblue']\n",
    "explode = (0.3, 0.2, 0.2, 0, 0, 0, 0, 0, 0)\n",
    "\n",
    "\n",
    "\n",
    "# show values instead of percentages\n",
    "def absolute_value(val):\n",
    "    a  = sizes[ np.abs(sizes - val/100.*sizes.sum()).idxmin() ]\n",
    "    return a\n",
    "\n",
    "\n",
    "plt.pie(sizes, explode=explode, labels=labels, colors=colors,\n",
    "autopct=absolute_value, shadow=True, startangle=90)\n",
    "\n",
    "\n",
    "plt.axis('equal')\n",
    "plt.title('Books with More than 52 Weeks on the YA Fiction Bestsellers List', fontsize=22)\n",
    "plt.show()"
   ]
  },
  {
   "cell_type": "code",
   "execution_count": null,
   "metadata": {},
   "outputs": [],
   "source": [
    "# rank and plot the most popular book authors by weeks on the list \n",
    "\n",
    "popular = genre_df['author'].value_counts()\n",
    "\n",
    "popular = pd.DataFrame(popular).reset_index()\n",
    "\n",
    "popular = popular.rename(columns={\"index\": \"author\", \"author\": \"count\"})\n",
    "\n",
    "popular = popular.loc[popular['count']>=52]\n",
    "\n",
    "popular"
   ]
  },
  {
   "cell_type": "code",
   "execution_count": null,
   "metadata": {},
   "outputs": [],
   "source": [
    "# Data to plot... (make sure explode has same number of elements as your popular list)\n",
    "\n",
    "labels = popular['author']\n",
    "sizes = popular['count']\n",
    "colors = ['gold', 'yellowgreen', 'lightcoral', 'lightskyblue', 'lightblue','lightsteelblue','silver', 'lightskyblue', 'lightblue','lightsteelblue','silver']\n",
    "explode = (0.3, 0.2, 0.2, 0, 0, 0, 0, 0, 0, 0, 0)\n",
    "\n",
    "\n",
    "\n",
    "# show values instead of percentages\n",
    "def absolute_value(val):\n",
    "    a  = sizes[ np.abs(sizes - val/100.*sizes.sum()).idxmin() ]\n",
    "    return a\n",
    "\n",
    "\n",
    "plt.pie(sizes, explode=explode, labels=labels, colors=colors,\n",
    "autopct=absolute_value, shadow=True, startangle=90)\n",
    "\n",
    "\n",
    "plt.axis('equal')\n",
    "plt.title('Authors with More than 52 Weeks on the YA Fiction Bestsellers List', fontsize=22)\n",
    "plt.show()"
   ]
  },
  {
   "cell_type": "code",
   "execution_count": null,
   "metadata": {},
   "outputs": [],
   "source": [
    "# drop duplicate titles and keep the first occurance \n",
    "# (sometimes books get republished and the descriptions get updated so we want the first editions)\n",
    "\n",
    "titles = genre_df.drop_duplicates(subset='title', keep='first')\n"
   ]
  },
  {
   "cell_type": "code",
   "execution_count": null,
   "metadata": {},
   "outputs": [],
   "source": [
    "# create wordbank from descriptions\n",
    "\n",
    "wordbank = titles['description'].unique()\n",
    "\n",
    "wordbank "
   ]
  },
  {
   "cell_type": "code",
   "execution_count": null,
   "metadata": {
    "scrolled": false
   },
   "outputs": [],
   "source": [
    "# build a word cloud\n",
    "\n",
    "stopwords = set(STOPWORDS)\n",
    "\n",
    "wordcloud = WordCloud(background_color='white', stopwords=stopwords, max_words=1000, width=2000, height=1000).generate(' '.join(wordbank))\n",
    "\n",
    "# display the word cloud\n",
    "\n",
    "fig = plt.figure()\n",
    "fig.set_figwidth(20) # set width\n",
    "fig.set_figheight(20) # set height\n",
    "\n",
    "plt.imshow(wordcloud, interpolation='bilinear')\n",
    "plt.axis('off')\n",
    "plt.show()"
   ]
  },
  {
   "cell_type": "code",
   "execution_count": null,
   "metadata": {},
   "outputs": [],
   "source": [
    "# add the uninteresting words to stopwords\n",
    "\n",
    "stopwords.add('novel')\n",
    "stopwords.add(\"series\")\n",
    "stopwords.add(\"book\")\n",
    "stopwords.add(\"author\")\n",
    "stopwords.add(\"writer\")\n",
    "stopwords.add(\"trilogy\")\n",
    "stopwords.add(\"stories\")\n",
    "stopwords.add(\"sequel\")\n",
    "stopwords.add(\"story\")\n",
    "stopwords.add(\"Originally published\")\n",
    "stopwords.add(\"installment\")\n",
    "stopwords.add(\"set\")\n",
    "stopwords.add(\"sets\")\n",
    "stopwords.add(\"Jane\")\n",
    "stopwords.add(\"continue\")\n",
    "stopwords.add(\"must\")\n",
    "stopwords.add(\"called\")\n",
    "stopwords.add(\"Vlad Impaler\")\n",
    "stopwords.add(\"will\")\n",
    "stopwords.add(\"Eliza\")\n",
    "stopwords.add(\"Orisha\")\n",
    "stopwords.add(\"Zelle\")\n",
    "stopwords.add(\"Cath\")\n",
    "stopwords.add(\"Cyra\")\n",
    "stopwords.add(\"Laia\")\n",
    "\n",
    "\n",
    "\n",
    "# re-generate the word cloud\n",
    "\n",
    "wordcloud = WordCloud(background_color='black', stopwords=stopwords, max_words=1000, width=2000, height=1000).generate(' '.join(wordbank))\n",
    "\n",
    "fig = plt.figure()\n",
    "fig.set_figwidth(20) # set width\n",
    "fig.set_figheight(20) # set height\n",
    "\n",
    "plt.imshow(wordcloud, interpolation='bilinear')\n",
    "plt.axis('off')\n",
    "plt.show()"
   ]
  },
  {
   "cell_type": "code",
   "execution_count": null,
   "metadata": {},
   "outputs": [],
   "source": [
    "# download image and save mask to book\n",
    "\n",
    "book = np.array(PIL.Image.open('book.png'))\n",
    "\n",
    "imshow(book)\n",
    "\n",
    "print('Image downloaded and saved!')"
   ]
  },
  {
   "cell_type": "code",
   "execution_count": null,
   "metadata": {},
   "outputs": [],
   "source": [
    "# display mask image\n",
    "\n",
    "fig = plt.figure()\n",
    "fig.set_figwidth(14) # set width\n",
    "fig.set_figheight(18) # set height\n",
    "\n",
    "plt.imshow(book, cmap=plt.cm.gray, interpolation='bilinear')\n",
    "plt.axis('off')\n",
    "plt.show()"
   ]
  },
  {
   "cell_type": "code",
   "execution_count": null,
   "metadata": {},
   "outputs": [],
   "source": [
    "# instantiate a word cloud object\n",
    "book_wc = WordCloud(background_color='white', max_words=500, mask=book, stopwords=stopwords)\n",
    "\n",
    "# generate the word cloud\n",
    "book_wc.generate(' '.join(wordbank))\n",
    "\n",
    "# display the word cloud\n",
    "fig = plt.figure()\n",
    "fig.set_figwidth(20) # set width\n",
    "fig.set_figheight(20) # set height\n",
    "\n",
    "plt.imshow(book_wc, interpolation='bilinear')\n",
    "plt.axis('off')\n",
    "plt.show()\n"
   ]
  },
  {
   "cell_type": "code",
   "execution_count": null,
   "metadata": {},
   "outputs": [],
   "source": []
  },
  {
   "cell_type": "code",
   "execution_count": null,
   "metadata": {},
   "outputs": [],
   "source": []
  },
  {
   "cell_type": "code",
   "execution_count": null,
   "metadata": {},
   "outputs": [],
   "source": []
  },
  {
   "cell_type": "code",
   "execution_count": null,
   "metadata": {},
   "outputs": [],
   "source": [
    "\n"
   ]
  },
  {
   "cell_type": "code",
   "execution_count": null,
   "metadata": {},
   "outputs": [],
   "source": []
  },
  {
   "cell_type": "code",
   "execution_count": null,
   "metadata": {},
   "outputs": [],
   "source": []
  },
  {
   "cell_type": "code",
   "execution_count": null,
   "metadata": {},
   "outputs": [],
   "source": []
  },
  {
   "cell_type": "code",
   "execution_count": null,
   "metadata": {},
   "outputs": [],
   "source": []
  },
  {
   "cell_type": "code",
   "execution_count": null,
   "metadata": {},
   "outputs": [],
   "source": []
  }
 ],
 "metadata": {
  "kernelspec": {
   "display_name": "Python 3",
   "language": "python",
   "name": "python3"
  },
  "language_info": {
   "codemirror_mode": {
    "name": "ipython",
    "version": 3
   },
   "file_extension": ".py",
   "mimetype": "text/x-python",
   "name": "python",
   "nbconvert_exporter": "python",
   "pygments_lexer": "ipython3",
   "version": "3.7.4"
  }
 },
 "nbformat": 4,
 "nbformat_minor": 2
}
